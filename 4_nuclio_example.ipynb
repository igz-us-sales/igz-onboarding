{
 "cells": [
  {
   "cell_type": "markdown",
   "metadata": {},
   "source": [
    "### Import MLRun/Nuclio"
   ]
  },
  {
   "cell_type": "code",
   "execution_count": 1,
   "metadata": {},
   "outputs": [],
   "source": [
    "import nuclio\n",
    "from mlrun import code_to_function, new_function\n",
    "import os\n",
    "from os import path\n",
    "import requests\n",
    "import json"
   ]
  },
  {
   "cell_type": "markdown",
   "metadata": {},
   "source": [
    "### Define Nuclio Function"
   ]
  },
  {
   "cell_type": "code",
   "execution_count": 2,
   "metadata": {},
   "outputs": [],
   "source": [
    "fn = code_to_function(\n",
    "    name='serving-demo',\n",
    "    project=\"igz-onboarding\",\n",
    "    kind='nuclio',\n",
    "    filename=\"src_code/nuclio_fn.py\"\n",
    ")\n",
    "fn.spec.min_replicas = 1\n",
    "fn.spec.max_replicas = 1\n",
    "fn.spec.base_spec['spec']['build']['baseImage'] = \"mlrun/mlrun\""
   ]
  },
  {
   "cell_type": "markdown",
   "metadata": {},
   "source": [
    "### Deploy Function"
   ]
  },
  {
   "cell_type": "code",
   "execution_count": 3,
   "metadata": {},
   "outputs": [
    {
     "name": "stdout",
     "output_type": "stream",
     "text": [
      "> 2021-05-13 14:38:33,955 [info] Starting remote function deploy\n",
      "2021-05-13 14:38:34  (info) Deploying function\n",
      "2021-05-13 14:38:34  (info) Building\n",
      "2021-05-13 14:38:34  (info) Staging files and preparing base images\n",
      "2021-05-13 14:38:34  (info) Building processor image\n",
      "2021-05-13 14:38:35  (info) Build complete\n",
      "2021-05-13 14:38:37  (info) Function deploy complete\n",
      "> 2021-05-13 14:38:38,523 [info] function deployed, address=default-tenant.app.us-sales-fs.iguazio-cd0.com:30998\n"
     ]
    }
   ],
   "source": [
    "addr = fn.deploy()"
   ]
  },
  {
   "cell_type": "markdown",
   "metadata": {},
   "source": [
    "### Query Function"
   ]
  },
  {
   "cell_type": "code",
   "execution_count": 4,
   "metadata": {},
   "outputs": [
    {
     "data": {
      "text/plain": [
       "{'my_model': 'my_data - 0.6523998221021653'}"
      ]
     },
     "execution_count": 4,
     "metadata": {},
     "output_type": "execute_result"
    }
   ],
   "source": [
    "payload = {'data': \"my_data\"}\n",
    "\n",
    "response = requests.post(addr, json=json.dumps(payload))\n",
    "predictions = response.json()\n",
    "\n",
    "predictions"
   ]
  },
  {
   "cell_type": "code",
   "execution_count": null,
   "metadata": {},
   "outputs": [],
   "source": []
  }
 ],
 "metadata": {
  "kernelspec": {
   "display_name": "Python [conda env:root] *",
   "language": "python",
   "name": "conda-root-py"
  },
  "language_info": {
   "codemirror_mode": {
    "name": "ipython",
    "version": 3
   },
   "file_extension": ".py",
   "mimetype": "text/x-python",
   "name": "python",
   "nbconvert_exporter": "python",
   "pygments_lexer": "ipython3",
   "version": "3.7.6"
  }
 },
 "nbformat": 4,
 "nbformat_minor": 4
}
