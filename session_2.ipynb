{
 "cells": [
  {
   "cell_type": "markdown",
   "metadata": {
    "slideshow": {
     "slide_type": "slide"
    }
   },
   "source": [
    "# Iguazio Onboarding - Session 2"
   ]
  },
  {
   "cell_type": "markdown",
   "metadata": {
    "slideshow": {
     "slide_type": "slide"
    }
   },
   "source": [
    "### ML Review"
   ]
  },
  {
   "cell_type": "markdown",
   "metadata": {
    "slideshow": {
     "slide_type": "fragment"
    }
   },
   "source": [
    "- Traditional Programming: Input + Function = Output"
   ]
  },
  {
   "cell_type": "markdown",
   "metadata": {
    "slideshow": {
     "slide_type": "fragment"
    }
   },
   "source": [
    "- ML: Input + Output = Function"
   ]
  },
  {
   "cell_type": "markdown",
   "metadata": {
    "slideshow": {
     "slide_type": "fragment"
    }
   },
   "source": [
    "- Supervised learning (we know the answer i.e. target)\n",
    "    - Input = features\n",
    "    - Output = target\n",
    "    - Function = model"
   ]
  },
  {
   "cell_type": "markdown",
   "metadata": {
    "slideshow": {
     "slide_type": "slide"
    }
   },
   "source": [
    "### Pipeline Overview"
   ]
  },
  {
   "cell_type": "markdown",
   "metadata": {
    "slideshow": {
     "slide_type": "fragment"
    }
   },
   "source": [
    "1. Prep data"
   ]
  },
  {
   "cell_type": "markdown",
   "metadata": {
    "slideshow": {
     "slide_type": "fragment"
    }
   },
   "source": [
    "2. Train + evaluate model"
   ]
  },
  {
   "cell_type": "markdown",
   "metadata": {
    "slideshow": {
     "slide_type": "fragment"
    }
   },
   "source": [
    "3. Deploy model for serving"
   ]
  },
  {
   "cell_type": "markdown",
   "metadata": {
    "slideshow": {
     "slide_type": "slide"
    }
   },
   "source": [
    "### Demo Overview"
   ]
  },
  {
   "cell_type": "markdown",
   "metadata": {
    "slideshow": {
     "slide_type": "fragment"
    }
   },
   "source": [
    "- Review file structure"
   ]
  },
  {
   "cell_type": "markdown",
   "metadata": {
    "slideshow": {
     "slide_type": "fragment"
    }
   },
   "source": [
    "- Create project"
   ]
  },
  {
   "cell_type": "markdown",
   "metadata": {
    "slideshow": {
     "slide_type": "fragment"
    }
   },
   "source": [
    "- Build Docker image (optional)"
   ]
  },
  {
   "cell_type": "markdown",
   "metadata": {
    "slideshow": {
     "slide_type": "fragment"
    }
   },
   "source": [
    "- Add functions to project"
   ]
  },
  {
   "cell_type": "markdown",
   "metadata": {
    "slideshow": {
     "slide_type": "fragment"
    }
   },
   "source": [
    "- Add pipelines to project"
   ]
  },
  {
   "cell_type": "markdown",
   "metadata": {
    "slideshow": {
     "slide_type": "fragment"
    }
   },
   "source": [
    "- Run pipeline"
   ]
  },
  {
   "cell_type": "markdown",
   "metadata": {
    "slideshow": {
     "slide_type": "fragment"
    }
   },
   "source": [
    "- Model inference"
   ]
  },
  {
   "cell_type": "markdown",
   "metadata": {
    "slideshow": {
     "slide_type": "slide"
    }
   },
   "source": [
    "### File Structure"
   ]
  },
  {
   "cell_type": "code",
   "execution_count": 1,
   "metadata": {
    "scrolled": true,
    "slideshow": {
     "slide_type": "fragment"
    }
   },
   "outputs": [
    {
     "name": "stdout",
     "output_type": "stream",
     "text": [
      " | - project\n",
      " | | - components\n",
      " | | | - get_prep_data.py\n",
      " | | | - train_eval_model.py\n",
      " | | - pipelines\n",
      " | | | - pipeline.py\n",
      " | | - project.yaml\n"
     ]
    }
   ],
   "source": [
    "!find ./project | grep -v .ipynb_checkpoints | grep -v __pycache__  | sed -e \"s/[^-][^\\/]*\\// |/g\" -e \"s/|\\([^ ]\\)/| - \\1/\""
   ]
  },
  {
   "cell_type": "markdown",
   "metadata": {
    "slideshow": {
     "slide_type": "slide"
    }
   },
   "source": [
    "### Setup MLRun Project"
   ]
  },
  {
   "cell_type": "code",
   "execution_count": 2,
   "metadata": {
    "slideshow": {
     "slide_type": "fragment"
    }
   },
   "outputs": [
    {
     "name": "stdout",
     "output_type": "stream",
     "text": [
      "> 2021-11-05 20:40:48,922 [info] loaded project onboarding from MLRun DB\n",
      "Project name: onboarding\n",
      "Project path: /User/igz_repos/igz-onboarding/project\n",
      "Artifacts path: v3io:///projects/{{run.project}}/artifacts\n",
      "MLRun DB path: http://mlrun-api:8080\n"
     ]
    }
   ],
   "source": [
    "import os\n",
    "from os import path\n",
    "from mlrun import set_environment, new_project, mlconf\n",
    "\n",
    "# Set the default environment configuration\n",
    "project_name, artifact_path = set_environment(project=\"onboarding\")\n",
    "\n",
    "# Create project\n",
    "project_path = path.abspath(\"project\")\n",
    "project = new_project(name=project_name, context=project_path)\n",
    "\n",
    "print(f\"Project name: {project_name}\\nProject path: {project_path}\")\n",
    "print(f\"Artifacts path: {artifact_path}\\nMLRun DB path: {mlconf.dbpath}\")"
   ]
  },
  {
   "cell_type": "markdown",
   "metadata": {
    "slideshow": {
     "slide_type": "slide"
    }
   },
   "source": [
    "### Build Docker Image (Optional)"
   ]
  },
  {
   "cell_type": "code",
   "execution_count": 3,
   "metadata": {
    "slideshow": {
     "slide_type": "fragment"
    }
   },
   "outputs": [],
   "source": [
    "# image = f\"docker-registry.{os.getenv('IGZ_NAMESPACE_DOMAIN')}:80/feature-store-image\"\n",
    "image = \"mlrun/ml-models\""
   ]
  },
  {
   "cell_type": "code",
   "execution_count": 4,
   "metadata": {
    "slideshow": {
     "slide_type": "fragment"
    }
   },
   "outputs": [],
   "source": [
    "# Build Docker Image (only needs to be run once)\n",
    "from mlrun import new_function\n",
    "\n",
    "build_image = new_function(name=\"build-image\", kind=\"job\")\n",
    "build_image.build_config(\n",
    "    image=image,\n",
    "    base_image=\"mlrun/ml-models\",\n",
    "    commands=[\"pip install storey\"]\n",
    ")\n",
    "# build_image.deploy(with_mlrun=False)"
   ]
  },
  {
   "cell_type": "markdown",
   "metadata": {
    "slideshow": {
     "slide_type": "slide"
    }
   },
   "source": [
    "### Add Functions to Project"
   ]
  },
  {
   "cell_type": "markdown",
   "metadata": {
    "slideshow": {
     "slide_type": "fragment"
    }
   },
   "source": [
    "`project.set_function(func, name, kind, image)`"
   ]
  },
  {
   "cell_type": "code",
   "execution_count": 5,
   "metadata": {
    "slideshow": {
     "slide_type": "fragment"
    }
   },
   "outputs": [
    {
     "data": {
      "text/plain": [
       "<mlrun.runtimes.serving.ServingRuntime at 0x7f40da639690>"
      ]
     },
     "execution_count": 5,
     "metadata": {},
     "output_type": "execute_result"
    }
   ],
   "source": [
    "project.set_function(func=\"components/get_prep_data.py\",\n",
    "                     name=\"get-prep-data\",\n",
    "                     kind=\"job\",\n",
    "                     image=image)\n",
    "project.set_function(func=\"components/train_eval_model.py\",\n",
    "                     name=\"train-eval-model\",\n",
    "                     kind=\"job\",\n",
    "                     image=image)\n",
    "project.set_function(func=\"hub://v2_model_server\",\n",
    "                     name=\"deploy-model\",\n",
    "                     kind=\"nuclio\",\n",
    "                     image=image)"
   ]
  },
  {
   "cell_type": "markdown",
   "metadata": {
    "slideshow": {
     "slide_type": "slide"
    }
   },
   "source": [
    "### Add Pipelines to Project"
   ]
  },
  {
   "cell_type": "markdown",
   "metadata": {
    "slideshow": {
     "slide_type": "fragment"
    }
   },
   "source": [
    "`project.set_workflow(name, workflow_path)`"
   ]
  },
  {
   "cell_type": "code",
   "execution_count": 6,
   "metadata": {
    "slideshow": {
     "slide_type": "fragment"
    }
   },
   "outputs": [],
   "source": [
    "project.set_workflow(name=\"main\", workflow_path=\"pipelines/pipeline.py\")\n",
    "project.save()"
   ]
  },
  {
   "cell_type": "code",
   "execution_count": 7,
   "metadata": {
    "slideshow": {
     "slide_type": "subslide"
    }
   },
   "outputs": [
    {
     "name": "stdout",
     "output_type": "stream",
     "text": [
      "kind: project\n",
      "metadata:\n",
      "  name: onboarding\n",
      "spec:\n",
      "  functions:\n",
      "  - url: components/get_prep_data.py\n",
      "    name: get-prep-data\n",
      "    kind: job\n",
      "    image: mlrun/ml-models\n",
      "  - url: components/train_eval_model.py\n",
      "    name: train-eval-model\n",
      "    kind: job\n",
      "    image: mlrun/ml-models\n",
      "  - url: hub://v2_model_server\n",
      "    name: deploy-model\n",
      "    kind: nuclio\n",
      "    image: mlrun/ml-models\n",
      "  workflows:\n",
      "  - name: main\n",
      "    path: pipelines/pipeline.py\n",
      "    engine: null\n",
      "  artifacts: []\n",
      "  source: ''\n",
      "  subpath: ''\n",
      "  origin_url: ''\n",
      "  desired_state: online\n",
      "  disable_auto_mount: false\n"
     ]
    }
   ],
   "source": [
    "!cat project/project.yaml"
   ]
  },
  {
   "cell_type": "markdown",
   "metadata": {
    "slideshow": {
     "slide_type": "slide"
    }
   },
   "source": [
    "### Run Pipeline"
   ]
  },
  {
   "cell_type": "markdown",
   "metadata": {
    "slideshow": {
     "slide_type": "fragment"
    }
   },
   "source": [
    "Py: `project.run(name, arguments, artifact_path)`"
   ]
  },
  {
   "cell_type": "markdown",
   "metadata": {
    "slideshow": {
     "slide_type": "fragment"
    }
   },
   "source": [
    "CLI: `mlrun project ./project --run <NAME>`"
   ]
  },
  {
   "cell_type": "code",
   "execution_count": 8,
   "metadata": {
    "slideshow": {
     "slide_type": "fragment"
    }
   },
   "outputs": [
    {
     "name": "stdout",
     "output_type": "stream",
     "text": [
      "> 2021-11-05 20:41:07,266 [info] submitted pipeline onboarding-main 2021-11-05 20-41-07 id=d613520c-969c-4f42-a677-1c1230b05255\n",
      "> 2021-11-05 20:41:07,267 [info] Pipeline run id=d613520c-969c-4f42-a677-1c1230b05255, check UI for progress\n"
     ]
    },
    {
     "data": {
      "text/html": [
       "Pipeline started in project onboarding id=d613520c-969c-4f42-a677-1c1230b05255<div><a href=\"https://dashboard.default-tenant.app.us-sales-staging.iguazio-cd2.com/mlprojects/onboarding/jobs\" target=\"_blank\">click here to check progress</a></div>"
      ],
      "text/plain": [
       "<IPython.core.display.HTML object>"
      ]
     },
     "metadata": {},
     "output_type": "display_data"
    }
   ],
   "source": [
    "run_id = project.run(\n",
    "    name=\"main\",\n",
    "    arguments={\"dataset\": \"/User/igz_repos/igz-onboarding/assets/heart.csv\"},\n",
    "    artifact_path=artifact_path,\n",
    "    dirty=True\n",
    ")"
   ]
  },
  {
   "cell_type": "markdown",
   "metadata": {
    "slideshow": {
     "slide_type": "slide"
    }
   },
   "source": [
    "## Model Inference"
   ]
  },
  {
   "cell_type": "markdown",
   "metadata": {
    "slideshow": {
     "slide_type": "slide"
    }
   },
   "source": [
    "### Get Model Endpoint"
   ]
  },
  {
   "cell_type": "code",
   "execution_count": 9,
   "metadata": {
    "slideshow": {
     "slide_type": "fragment"
    }
   },
   "outputs": [
    {
     "data": {
      "text/plain": [
       "'http://nuclio-onboarding-v2-model-server:8080/v2/models/heart_disease_model/predict'"
      ]
     },
     "execution_count": 9,
     "metadata": {},
     "output_type": "execute_result"
    }
   ],
   "source": [
    "import json\n",
    "import requests\n",
    "import numpy as np\n",
    "import pandas as pd\n",
    "\n",
    "url = 'http://nuclio-{}-{}:8080'.format(project.name, project.func('deploy-model').metadata.name)\n",
    "url += \"/v2/models/heart_disease_model/predict\"\n",
    "url"
   ]
  },
  {
   "cell_type": "markdown",
   "metadata": {
    "slideshow": {
     "slide_type": "slide"
    }
   },
   "source": [
    "### Payload for Model"
   ]
  },
  {
   "cell_type": "code",
   "execution_count": 10,
   "metadata": {
    "slideshow": {
     "slide_type": "fragment"
    }
   },
   "outputs": [],
   "source": [
    "X_test = [[0.0, 0.0, 1.0, 0.0, 0.5833333333333334, 1.0, 0.0, 1.0, 0.0, 0.0, 0.0, 1.0, 0.0, 0.0, 1.0, 0.0, 0.0, 1.0, 1.0, 0.0, 0.0, 0.9342105263157896, 0.6965811965811965, 0.0, 0.3157894736842104, 0.2272727272727272, 1.0],\n",
    "          [0.0, 0.0, 1.0, 0.0, 0.6041666666666666, 1.0, 0.0, 1.0, 0.0, 0.0, 0.0, 1.0, 0.0, 1.0, 0.0, 0.0, 1.0, 0.0, 0.0, 0.0, 1.0, 0.2631578947368422, 0.8205128205128205, 1.0, 0.4561403508771928, 1.0, 1.0],\n",
    "          [0.0, 0.0, 1.0, 0.0, 0.25, 0.0, 1.0, 0.0, 1.0, 0.0, 0.0, 1.0, 0.0, 1.0, 0.0, 1.0, 0.0, 0.0, 0.0, 1.0, 0.0, 0.4736842105263159, 0.3333333333333333, 0.0, 0.7368421052631577, 0.3181818181818182, 0.0]]\n",
    "\n",
    "y_test = [0, 0, 1]"
   ]
  },
  {
   "cell_type": "code",
   "execution_count": 11,
   "metadata": {
    "slideshow": {
     "slide_type": "fragment"
    }
   },
   "outputs": [
    {
     "data": {
      "text/plain": [
       "'{\"inputs\": [[0.0, 0.0, 1.0, 0.0, 0.5833333333333334, 1.0, 0.0, 1.0, 0.0, 0.0, 0.0, 1.0, 0.0, 0.0, 1.0, 0.0, 0.0, 1.0, 1.0, 0.0, 0.0, 0.9342105263157896, 0.6965811965811965, 0.0, 0.3157894736842104, 0.2272727272727272, 1.0], [0.0, 0.0, 1.0, 0.0, 0.6041666666666666, 1.0, 0.0, 1.0, 0.0, 0.0, 0.0, 1.0, 0.0, 1.0, 0.0, 0.0, 1.0, 0.0, 0.0, 0.0, 1.0, 0.2631578947368422, 0.8205128205128205, 1.0, 0.4561403508771928, 1.0, 1.0], [0.0, 0.0, 1.0, 0.0, 0.25, 0.0, 1.0, 0.0, 1.0, 0.0, 0.0, 1.0, 0.0, 1.0, 0.0, 1.0, 0.0, 0.0, 0.0, 1.0, 0.0, 0.4736842105263159, 0.3333333333333333, 0.0, 0.7368421052631577, 0.3181818181818182, 0.0]]}'"
      ]
     },
     "execution_count": 11,
     "metadata": {},
     "output_type": "execute_result"
    }
   ],
   "source": [
    "data = json.dumps({\"inputs\" : X_test})\n",
    "data"
   ]
  },
  {
   "cell_type": "markdown",
   "metadata": {
    "slideshow": {
     "slide_type": "slide"
    }
   },
   "source": [
    "### Inference Model via HTTP"
   ]
  },
  {
   "cell_type": "code",
   "execution_count": 12,
   "metadata": {
    "slideshow": {
     "slide_type": "fragment"
    }
   },
   "outputs": [
    {
     "name": "stdout",
     "output_type": "stream",
     "text": [
      "CPU times: user 2.81 ms, sys: 3.85 ms, total: 6.66 ms\n",
      "Wall time: 15.3 ms\n"
     ]
    },
    {
     "data": {
      "text/plain": [
       "{'id': '27cca306-6c83-441a-a55b-b550ede9b5c7',\n",
       " 'model_name': 'heart_disease_model',\n",
       " 'outputs': [0, 0, 1]}"
      ]
     },
     "execution_count": 12,
     "metadata": {},
     "output_type": "execute_result"
    }
   ],
   "source": [
    "%%time\n",
    "predictions = requests.post(url=url, data=data).json()\n",
    "predictions"
   ]
  },
  {
   "cell_type": "code",
   "execution_count": 13,
   "metadata": {
    "slideshow": {
     "slide_type": "fragment"
    }
   },
   "outputs": [
    {
     "data": {
      "text/plain": [
       "[0, 0, 1]"
      ]
     },
     "execution_count": 13,
     "metadata": {},
     "output_type": "execute_result"
    }
   ],
   "source": [
    "y_test"
   ]
  }
 ],
 "metadata": {
  "celltoolbar": "Slideshow",
  "kernelspec": {
   "display_name": "Python [conda env:root] *",
   "language": "python",
   "name": "conda-root-py"
  },
  "language_info": {
   "codemirror_mode": {
    "name": "ipython",
    "version": 3
   },
   "file_extension": ".py",
   "mimetype": "text/x-python",
   "name": "python",
   "nbconvert_exporter": "python",
   "pygments_lexer": "ipython3",
   "version": "3.7.6"
  },
  "rise": {
   "enable_chalkboard": true,
   "scroll": true
  }
 },
 "nbformat": 4,
 "nbformat_minor": 4
}
